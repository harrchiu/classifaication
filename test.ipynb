{
 "cells": [
  {
   "cell_type": "code",
   "execution_count": 4,
   "metadata": {},
   "outputs": [
    {
     "name": "stdout",
     "output_type": "stream",
     "text": [
      "dot [ 0  6 24]\n"
     ]
    }
   ],
   "source": [
    "import numpy as np\n",
    "\n",
    "x = np.array([1, 2, 3])\n",
    "y = np.array([[0, 1, 4], [0,1,4], [0,1,4]])\n",
    "print(\"dot\", np.dot(x, y))"
   ]
  },
  {
   "cell_type": "code",
   "execution_count": 10,
   "metadata": {},
   "outputs": [
    {
     "name": "stdout",
     "output_type": "stream",
     "text": [
      "[[0.04501529 0.12236424 0.33262048]\n",
      " [0.04501529 0.12236424 0.33262048]]\n"
     ]
    }
   ],
   "source": [
    "#Softmax\n",
    "def softmax(x):\n",
    "    exp_element=np.exp(x-x.max())\n",
    "    return exp_element/np.sum(exp_element)\n",
    "\n",
    "print(softmax(np.array([[1,2,3],[1,2,3]])))"
   ]
  },
  {
   "cell_type": "code",
   "execution_count": 17,
   "metadata": {},
   "outputs": [
    {
     "name": "stdout",
     "output_type": "stream",
     "text": [
      "1 ,0 ,0 ,0 ,0 ,\n",
      "1 ,1 ,0 ,0 ,1 ,\n",
      "0 ,1 ,1 ,1 ,1 ,\n",
      "1 ,1 ,0 ,0 ,0 ,\n",
      "0 ,0 ,1 ,0 ,0 ,\n",
      "0 ,0 ,0 ,0 ,1 ,\n",
      "1 ,0 ,1 ,1 ,0 ,\n",
      "0 ,0 ,1 ,1 ,0 ,\n"
     ]
    }
   ],
   "source": [
    "for i in range(8):\n",
    "    for i in range(5):\n",
    "        print(np.random.randint(0,2), ',', end=\"\")\n",
    "    print()\n"
   ]
  }
 ],
 "metadata": {
  "kernelspec": {
   "display_name": "Python 3",
   "language": "python",
   "name": "python3"
  },
  "language_info": {
   "codemirror_mode": {
    "name": "ipython",
    "version": 3
   },
   "file_extension": ".py",
   "mimetype": "text/x-python",
   "name": "python",
   "nbconvert_exporter": "python",
   "pygments_lexer": "ipython3",
   "version": "3.8.9"
  },
  "orig_nbformat": 4
 },
 "nbformat": 4,
 "nbformat_minor": 2
}
